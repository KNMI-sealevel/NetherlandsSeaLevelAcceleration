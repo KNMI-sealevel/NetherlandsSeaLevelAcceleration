{
 "cells": [
  {
   "cell_type": "markdown",
   "id": "0164d194-725a-4f6a-a480-335771038ff6",
   "metadata": {},
   "source": [
    "# Tables and numbers for Keizer et al. (2023): \"The acceleration of sea-level rise along the coast of the Netherlands started in the 1960s\"\n",
    "Read output data from gam_model.ipynb\n",
    "\n",
    "__Note on the environment required to run the notebook:__\n",
    "\n",
    "An installation of Python 3.9 with recent versions of the libraries (numpy, scipy, matplotlib, pandas, xarray, statsmodels) should run this Notebook wihout modification.\n",
    "\n",
    "\n",
    "### Overview of this notebook:\n",
    "1. Model Evaluation (incl. Table 1)\n",
    "2. Wind influence on sea level\n",
    "3. Sea Level Rates (incl. Table 2)\n",
    "4. Hypothesis testing (incl. Table 3)"
   ]
  },
  {
   "cell_type": "code",
   "execution_count": 75,
   "id": "ffb45548-0ead-45e4-8270-584a14f0bd0a",
   "metadata": {},
   "outputs": [],
   "source": [
    "import os\n",
    "import matplotlib.pyplot as plt\n",
    "import numpy as np\n",
    "import pandas as pd\n",
    "\n",
    "from scipy.stats import norm, linregress\n",
    "\n",
    "import local_functions as loc\n",
    "\n",
    "# For higher resolution images on retina display screens\n",
    "import matplotlib_inline.backend_inline\n",
    "matplotlib_inline.backend_inline.set_matplotlib_formats('retina')"
   ]
  },
  {
   "cell_type": "code",
   "execution_count": 76,
   "id": "e00ade89-99b6-45cd-9b05-d2c1a5c3f8df",
   "metadata": {},
   "outputs": [],
   "source": [
    "region = 'Netherlands' # Choose from 'Netherlands', 'Belgium', 'Vlissingen', 'Hoek van Holland', 'Den Helder', 'Delfzijl', 'Harlingen', 'IJmuiden'\n",
    "bootsize = 10000 # Choose from 100, 1000, 10000\n",
    "output_dir = f'./outputs/{region}/'\n",
    "\n",
    "if os.path.exists(output_dir)==False:\n",
    "    os.makedirs(output_dir)\n",
    "\n",
    "if os.path.exists(output_dir+str(bootsize))==False:\n",
    "    os.makedirs(output_dir+str(bootsize))"
   ]
  },
  {
   "cell_type": "markdown",
   "id": "1c89ff06",
   "metadata": {},
   "source": [
    "## 1. Model Evaluation"
   ]
  },
  {
   "cell_type": "markdown",
   "id": "f919a725-991f-46b2-b22a-03f4f09cb4e6",
   "metadata": {},
   "source": [
    "### 1.1 Table 1: Summary table of model performance"
   ]
  },
  {
   "cell_type": "code",
   "execution_count": 77,
   "id": "0c80c50f-3249-4bb5-8756-2bc85e798f69",
   "metadata": {},
   "outputs": [],
   "source": [
    "resm_df = pd.read_csv(f'{output_dir}{bootsize}/table_model_performance.csv')"
   ]
  },
  {
   "cell_type": "code",
   "execution_count": 78,
   "id": "1459af62-cd5d-4b4e-ad00-7acf83aa2b96",
   "metadata": {},
   "outputs": [],
   "source": [
    "resm_df = pd.read_csv(f'{output_dir}{bootsize}/table_model_performance.csv')\n",
    "resm_df = resm_df.iloc[[0,1,3,4]]\n",
    "resm_df.set_index('Statistical model', inplace=True)\n",
    "resm_df['Model equation'] = ['$\\eta_i=  \\sum_j \\alpha_{j} \\phi_{ji}$', \n",
    "                             '$\\eta_i = \\sum_j \\alpha_{j} \\phi_{ji} + \\beta_{1} \\cos(2\\pi i /18.613) + \\beta_{2} \\sin(2\\pi i /18.613)$', \n",
    "                             '$\\eta_i = \\sum_j \\alpha_{j} \\phi_{ji} + \\beta_{1} \\cos(2\\pi i /18.613) + \\beta_{2} \\sin(2\\pi i /18.613)  +  \\beta_{3} |u_i|u_i$', \n",
    "                             '$\\eta_i = \\sum_j \\alpha_{j} \\phi_{ji} + \\beta_{1} \\cos(2\\pi i /18.613) + \\beta_{2} \\sin(2\\pi i /18.613)  +  \\beta_{4} \\Delta p_i$']\n",
    "resm_df = resm_df[['Model equation', 'Degrees of freedom', 'Deviance']]"
   ]
  },
  {
   "cell_type": "code",
   "execution_count": 79,
   "id": "04ef6dda-237d-4266-8c6e-4b83f45ec4df",
   "metadata": {},
   "outputs": [
    {
     "data": {
      "text/html": [
       "<div>\n",
       "<style scoped>\n",
       "    .dataframe tbody tr th:only-of-type {\n",
       "        vertical-align: middle;\n",
       "    }\n",
       "\n",
       "    .dataframe tbody tr th {\n",
       "        vertical-align: top;\n",
       "    }\n",
       "\n",
       "    .dataframe thead th {\n",
       "        text-align: right;\n",
       "    }\n",
       "</style>\n",
       "<table border=\"1\" class=\"dataframe\">\n",
       "  <thead>\n",
       "    <tr style=\"text-align: right;\">\n",
       "      <th></th>\n",
       "      <th>Model equation</th>\n",
       "      <th>Degrees of freedom</th>\n",
       "      <th>Deviance</th>\n",
       "    </tr>\n",
       "    <tr>\n",
       "      <th>Statistical model</th>\n",
       "      <th></th>\n",
       "      <th></th>\n",
       "      <th></th>\n",
       "    </tr>\n",
       "  </thead>\n",
       "  <tbody>\n",
       "    <tr>\n",
       "      <th>Tr : Trend only</th>\n",
       "      <td>$\\eta_i=  \\sum_j \u0007lpha_{j} \\phi_{ji}$</td>\n",
       "      <td>4.7</td>\n",
       "      <td>1167.0</td>\n",
       "    </tr>\n",
       "    <tr>\n",
       "      <th>TrNc : Trend and nodal tide</th>\n",
       "      <td>$\\eta_i = \\sum_j \u0007lpha_{j} \\phi_{ji} + \beta_{1...</td>\n",
       "      <td>6.6</td>\n",
       "      <td>1033.0</td>\n",
       "    </tr>\n",
       "    <tr>\n",
       "      <th>TrNcW : Trend, nodal tide and wind (zonal&amp;meridional velocity)</th>\n",
       "      <td>$\\eta_i = \\sum_j \u0007lpha_{j} \\phi_{ji} + \beta_{1...</td>\n",
       "      <td>8.6</td>\n",
       "      <td>423.0</td>\n",
       "    </tr>\n",
       "    <tr>\n",
       "      <th>TrNcPd : Trend, nodal tide and wind (pressure difference)</th>\n",
       "      <td>$\\eta_i = \\sum_j \u0007lpha_{j} \\phi_{ji} + \beta_{1...</td>\n",
       "      <td>7.6</td>\n",
       "      <td>652.0</td>\n",
       "    </tr>\n",
       "  </tbody>\n",
       "</table>\n",
       "</div>"
      ],
      "text/plain": [
       "                                                                                       Model equation  \\\n",
       "Statistical model                                                                                       \n",
       "Tr : Trend only                                                 $\\eta_i=  \\sum_j \u0007lpha_{j} \\phi_{ji}$   \n",
       "TrNc : Trend and nodal tide                         $\\eta_i = \\sum_j \u0007lpha_{j} \\phi_{ji} + \beta_{1...   \n",
       "TrNcW : Trend, nodal tide and wind (zonal&merid...  $\\eta_i = \\sum_j \u0007lpha_{j} \\phi_{ji} + \beta_{1...   \n",
       "TrNcPd : Trend, nodal tide and wind (pressure d...  $\\eta_i = \\sum_j \u0007lpha_{j} \\phi_{ji} + \beta_{1...   \n",
       "\n",
       "                                                    Degrees of freedom  \\\n",
       "Statistical model                                                        \n",
       "Tr : Trend only                                                    4.7   \n",
       "TrNc : Trend and nodal tide                                        6.6   \n",
       "TrNcW : Trend, nodal tide and wind (zonal&merid...                 8.6   \n",
       "TrNcPd : Trend, nodal tide and wind (pressure d...                 7.6   \n",
       "\n",
       "                                                    Deviance  \n",
       "Statistical model                                             \n",
       "Tr : Trend only                                       1167.0  \n",
       "TrNc : Trend and nodal tide                           1033.0  \n",
       "TrNcW : Trend, nodal tide and wind (zonal&merid...     423.0  \n",
       "TrNcPd : Trend, nodal tide and wind (pressure d...     652.0  "
      ]
     },
     "execution_count": 79,
     "metadata": {},
     "output_type": "execute_result"
    }
   ],
   "source": [
    "resm_df"
   ]
  },
  {
   "cell_type": "markdown",
   "id": "e057ff37-fffd-40d5-a770-1ca99c203ff4",
   "metadata": {},
   "source": [
    "Export to latex table format to copy paste directly to the paper"
   ]
  },
  {
   "cell_type": "code",
   "execution_count": 80,
   "id": "858115c4-dd88-411e-9f0e-12a3bb92d152",
   "metadata": {},
   "outputs": [
    {
     "name": "stdout",
     "output_type": "stream",
     "text": [
      "\\begin{tabular}{llrr}\n",
      "\\toprule\n",
      "{} &                                     Model equation &  Degrees of freedom &  Deviance \\\\\n",
      "Statistical model                                  &                                                    &                     &           \\\\\n",
      "\\midrule\n",
      "Tr : Trend only                                    &              \\$\\textbackslash eta\\_i=  \\textbackslash sum\\_j \u0007lpha\\_\\{j\\} \\textbackslash phi\\_\\{ji\\}\\$ &                 4.7 &    1167.0 \\\\\n",
      "TrNc : Trend and nodal tide                        &  \\$\\textbackslash eta\\_i = \\textbackslash sum\\_j \u0007lpha\\_\\{j\\} \\textbackslash phi\\_\\{ji\\} +eta\\_\\{1... &                 6.6 &    1033.0 \\\\\n",
      "TrNcW : Trend, nodal tide and wind (zonal\\&merid... &  \\$\\textbackslash eta\\_i = \\textbackslash sum\\_j \u0007lpha\\_\\{j\\} \\textbackslash phi\\_\\{ji\\} +eta\\_\\{1... &                 8.6 &     423.0 \\\\\n",
      "TrNcPd : Trend, nodal tide and wind (pressure d... &  \\$\\textbackslash eta\\_i = \\textbackslash sum\\_j \u0007lpha\\_\\{j\\} \\textbackslash phi\\_\\{ji\\} +eta\\_\\{1... &                 7.6 &     652.0 \\\\\n",
      "\\bottomrule\n",
      "\\end{tabular}\n",
      "\n"
     ]
    },
    {
     "name": "stderr",
     "output_type": "stream",
     "text": [
      "/var/folders/sg/bjgd139d48v526p07tp867mh0000gn/T/ipykernel_37633/3890745105.py:1: FutureWarning: In future versions `DataFrame.to_latex` is expected to utilise the base implementation of `Styler.to_latex` for formatting and rendering. The arguments signature may therefore change. It is recommended instead to use `DataFrame.style.to_latex` which also contains additional functionality.\n",
      "  print(resm_df.to_latex())\n"
     ]
    }
   ],
   "source": [
    "print(resm_df.to_latex())"
   ]
  },
  {
   "cell_type": "markdown",
   "id": "11df18f6-2537-41df-841f-a87dee6461d5",
   "metadata": {},
   "source": [
    "### 1.2 Also compute some percentages for the paper"
   ]
  },
  {
   "cell_type": "markdown",
   "id": "61514978-053d-4460-902f-b71b348d94af",
   "metadata": {},
   "source": [
    "Deviance"
   ]
  },
  {
   "cell_type": "code",
   "execution_count": 81,
   "id": "87880924-cee1-4f11-b01b-93b28b51e212",
   "metadata": {},
   "outputs": [
    {
     "name": "stdout",
     "output_type": "stream",
     "text": [
      "11.0\n",
      "59.0\n",
      "37.0\n"
     ]
    }
   ],
   "source": [
    "print(round(100-100*resm_df.Deviance[1]/resm_df.Deviance[0],0))\n",
    "print(round(100-100*resm_df.Deviance[2]/resm_df.Deviance[1],0))\n",
    "print(round(100-100*resm_df.Deviance[3]/resm_df.Deviance[1],0))"
   ]
  },
  {
   "cell_type": "markdown",
   "id": "3caa51e7-4f7c-4841-9ec2-41079970546c",
   "metadata": {},
   "source": [
    "## 2. Wind contribution to sea level"
   ]
  },
  {
   "cell_type": "code",
   "execution_count": 82,
   "id": "dc614b6a-536d-4903-9d69-e9f11f73de81",
   "metadata": {},
   "outputs": [],
   "source": [
    "wind_rec = pd.read_csv(f'{output_dir}/WindInfluence.csv')\n",
    "wind_rec.set_index('time', inplace=True)"
   ]
  },
  {
   "cell_type": "code",
   "execution_count": 83,
   "id": "ff392296-ce7f-4d4d-afbe-14928e59ef63",
   "metadata": {
    "tags": []
   },
   "outputs": [],
   "source": [
    "# Estimate the linear trend for different periods\n",
    "\n",
    "mid_point = int(len(wind_rec.index)/2)\n",
    "\n",
    "lin_trend_na1 = round(linregress(wind_rec.index[0:mid_point], \n",
    "                                 wind_rec['NearestPointAverage2_trend'].iloc[0:mid_point]).slope*10, 2)\n",
    "lin_trend_na2 = round(linregress(wind_rec.index[mid_point:-1], \n",
    "                                 wind_rec['NearestPointAverage2_trend'].iloc[mid_point:-1]).slope*10, 2)\n",
    "\n",
    "lin_trend_pd1 = round(linregress(wind_rec.index[0:mid_point], \n",
    "                                 wind_rec['PressureDifference_trend'].iloc[0:mid_point]).slope*10, 2)\n",
    "lin_trend_pd2 = round(linregress(wind_rec.index[mid_point:-1], \n",
    "                                 wind_rec['PressureDifference_trend'].iloc[mid_point:-1]).slope*10, 2)\n"
   ]
  },
  {
   "cell_type": "code",
   "execution_count": 84,
   "id": "ec325152-52df-418c-9e92-061ff5fd0b66",
   "metadata": {},
   "outputs": [
    {
     "data": {
      "text/plain": [
       "(0.17, 0.13, 0.42, 0.14)"
      ]
     },
     "execution_count": 84,
     "metadata": {},
     "output_type": "execute_result"
    }
   ],
   "source": [
    "lin_trend_na1, lin_trend_na2, lin_trend_pd1, lin_trend_pd2"
   ]
  },
  {
   "cell_type": "code",
   "execution_count": 85,
   "id": "4eacb318-ed9f-47fa-b9ed-8bc6065d46c8",
   "metadata": {},
   "outputs": [],
   "source": [
    "# Standard error in the estimation of the linear trend\n",
    "\n",
    "lin_trend_se_na1 = round(linregress(wind_rec.index[0:mid_point], \n",
    "                                 wind_rec['NearestPointAverage2_trend'].iloc[0:mid_point]).stderr*10, 3)\n",
    "lin_trend_se_na2 = round(linregress(wind_rec.index[mid_point:-1], \n",
    "                                 wind_rec['NearestPointAverage2_trend'].iloc[mid_point:-1]).stderr*10, 3)\n",
    "\n",
    "lin_trend_se_pd1 = round(linregress(wind_rec.index[0:mid_point], \n",
    "                                 wind_rec['PressureDifference_trend'].iloc[0:mid_point]).stderr*10, 3)\n",
    "lin_trend_se_pd2 = round(linregress(wind_rec.index[mid_point:-1], \n",
    "                                 wind_rec['PressureDifference_trend'].iloc[mid_point:-1]).stderr*10, 3)"
   ]
  },
  {
   "cell_type": "code",
   "execution_count": 86,
   "id": "03a61090-f700-4e5b-82e0-3020359ab54f",
   "metadata": {},
   "outputs": [
    {
     "data": {
      "text/plain": [
       "(0.001, 0.0, 0.01, 0.003)"
      ]
     },
     "execution_count": 86,
     "metadata": {},
     "output_type": "execute_result"
    }
   ],
   "source": [
    "lin_trend_se_na1, lin_trend_se_na2, lin_trend_se_pd1, lin_trend_se_pd2"
   ]
  },
  {
   "cell_type": "markdown",
   "id": "e7e6f169-be83-45ec-8bc1-d251e7d8d45d",
   "metadata": {},
   "source": [
    "These standard errors are very small. The uncertainty in estimating the trend in wind influence on sea level does not come from fitting a linear trend to a wind time series (which these standard errors measure), it comes from the wind data and the method itself. \n",
    "\n",
    "Therefore the uncertainty is better estimated by looking at the difference between two methods which is what we do in the paper."
   ]
  },
  {
   "cell_type": "markdown",
   "id": "5fd68e39-dadb-44f3-88c0-77d49dffc9f8",
   "metadata": {},
   "source": [
    "## 3. Rates of sea level rise"
   ]
  },
  {
   "cell_type": "markdown",
   "id": "a3b2c5c6-2ec0-40aa-a808-21a89b86ce8e",
   "metadata": {},
   "source": [
    "### 3.1 Read rates data"
   ]
  },
  {
   "cell_type": "code",
   "execution_count": 87,
   "id": "32ab445d-6430-4f45-85e2-06a8c9ded711",
   "metadata": {},
   "outputs": [],
   "source": [
    "# tg_df = pd.read_csv(f'{output_dir}data_tide_gauges.csv')\n",
    "\n",
    "# res_nr = pd.read_csv(f'{output_dir}results_NoRegressor.csv')\n",
    "# res_nt = pd.read_csv(f'{output_dir}results_NodalTide.csv')\n",
    "# res_na = pd.read_csv(f'{output_dir}results_NearestPointAverage.csv')\n",
    "# res_pd = pd.read_csv(f'{output_dir}results_PressureDifference.csv')\n",
    "\n",
    "# for df in [tg_df, res_nr, res_nt, res_na, res_pd]:\n",
    "#     df.set_index('time', inplace=True)"
   ]
  },
  {
   "cell_type": "code",
   "execution_count": 88,
   "id": "f0abc0ca-86e7-46dd-845d-7b915f6fc19f",
   "metadata": {},
   "outputs": [],
   "source": [
    "rates_nr = pd.read_csv(f'{output_dir}{bootsize}/rates_NoRegressor.csv')\n",
    "rates_nt = pd.read_csv(f'{output_dir}{bootsize}/rates_NodalTide.csv')\n",
    "rates_na = pd.read_csv(f'{output_dir}{bootsize}/rates_NearestPointAverage2.csv')\n",
    "rates_pd = pd.read_csv(f'{output_dir}{bootsize}/rates_PressureDifference.csv')\n",
    "\n",
    "rates_q_nr = pd.read_csv(f'{output_dir}{bootsize}/rates_quantiles_NoRegressor.csv')\n",
    "rates_q_nt = pd.read_csv(f'{output_dir}{bootsize}/rates_quantiles_NodalTide.csv')\n",
    "rates_q_na = pd.read_csv(f'{output_dir}{bootsize}/rates_quantiles_NearestPointAverage2.csv')\n",
    "rates_q_pd = pd.read_csv(f'{output_dir}{bootsize}/rates_quantiles_PressureDifference.csv')\n",
    "\n",
    "for df in [rates_nr, rates_nt, rates_na, rates_pd,\n",
    "           rates_q_nr, rates_q_nt, rates_q_na, rates_q_pd,]:\n",
    "    df.set_index('time', inplace=True)"
   ]
  },
  {
   "cell_type": "code",
   "execution_count": 89,
   "id": "cbdc2e24-6cc3-41be-bb65-e6905da0b6af",
   "metadata": {},
   "outputs": [],
   "source": [
    "# Compute the standard errors in rates\n",
    "\n",
    "ser_nr = rates_nr.std(axis=1)\n",
    "ser_nt = rates_nt.std(axis=1)\n",
    "ser_na = rates_na.std(axis=1)\n",
    "ser_pd = rates_pd.std(axis=1)"
   ]
  },
  {
   "cell_type": "code",
   "execution_count": 90,
   "id": "70dc2f33-6987-43c1-bd73-e16c7be904af",
   "metadata": {},
   "outputs": [],
   "source": [
    "long_names = ['Trend only', \n",
    "              'Trend and nodal tide', \n",
    "              'Trend, nodal tide and wind (velocity)', \n",
    "              'Trend, nodal tide and wind (pressure)']\n",
    "\n",
    "short_names = ['Tr', 'TrNc', 'TrNcW', 'TrNcPd']\n",
    "\n",
    "comb_names = [f'{short_names[i]} : {long_names[i]}' for i in range(4)]"
   ]
  },
  {
   "cell_type": "markdown",
   "id": "08c7fbcc-6ab4-4b09-bc71-b3edfeaf86f5",
   "metadata": {},
   "source": [
    "In the paper 0.00 is replaced by <0.01"
   ]
  },
  {
   "cell_type": "markdown",
   "id": "d7a94461-fd3b-4b65-953c-46194c7ff78b",
   "metadata": {},
   "source": [
    "### 3.2 Print the rate numbers and uncertainty range"
   ]
  },
  {
   "cell_type": "code",
   "execution_count": 91,
   "id": "fc9b9a38",
   "metadata": {},
   "outputs": [
    {
     "name": "stdout",
     "output_type": "stream",
     "text": [
      "[2]\n"
     ]
    }
   ],
   "source": [
    "a = [1,2]\n",
    "print(a[1:2])"
   ]
  },
  {
   "cell_type": "code",
   "execution_count": 92,
   "id": "bc40a2f8-c933-4fc5-8035-232c571757c2",
   "metadata": {},
   "outputs": [
    {
     "name": "stdout",
     "output_type": "stream",
     "text": [
      "Format: Median [0.05, 0.95]\n",
      "\n",
      "Model: Tr\n",
      "Period: 1900-1919\n",
      "2.2 [1.4,2.9]\n",
      "Period: 1920-1939\n",
      "1.7 [1.1,2.3]\n",
      "Period: 1940-1959\n",
      "1.6 [1.0,2.3]\n",
      "Period: 1960-1979\n",
      "1.8 [1.2,2.5]\n",
      "Period: 1980-1999\n",
      "2.3 [1.6,2.9]\n",
      "Period: 2000-2019\n",
      "2.7 [1.8,3.7]\n",
      "Period: 1890-1959\n",
      "1.9 [1.1,2.6]\n",
      "Period: 1960-2021\n",
      "2.3 [1.5,3.0]\n",
      "Period: 1890-2021\n",
      "2.1 [1.3,2.8]\n",
      "\n",
      "Model: TrNc\n",
      "Period: 1900-1919\n",
      "2.3 [1.8,2.8]\n",
      "Period: 1920-1939\n",
      "1.7 [1.3,2.1]\n",
      "Period: 1940-1959\n",
      "1.6 [1.2,2.0]\n",
      "Period: 1960-1979\n",
      "1.8 [1.4,2.2]\n",
      "Period: 1980-1999\n",
      "2.3 [1.9,2.7]\n",
      "Period: 2000-2019\n",
      "2.7 [2.1,3.4]\n",
      "Period: 1890-1959\n",
      "1.9 [1.5,2.4]\n",
      "Period: 1960-2021\n",
      "2.3 [1.8,2.8]\n",
      "Period: 1890-2021\n",
      "2.1 [1.6,2.6]\n",
      "\n",
      "Model: TrNcW\n",
      "Period: 1900-1919\n",
      "1.7 [1.3,2.2]\n",
      "Period: 1920-1939\n",
      "1.7 [1.4,2.1]\n",
      "Period: 1940-1959\n",
      "1.5 [1.2,1.9]\n",
      "Period: 1960-1979\n",
      "1.4 [1.1,1.7]\n",
      "Period: 1980-1999\n",
      "2.2 [1.9,2.6]\n",
      "Period: 2000-2019\n",
      "2.9 [2.4,3.5]\n",
      "Period: 1890-1959\n",
      "1.7 [1.2,2.1]\n",
      "Period: 1960-2021\n",
      "2.2 [1.8,2.6]\n",
      "Period: 1890-2021\n",
      "1.9 [1.5,2.3]\n",
      "\n",
      "Model: TrNcPd\n",
      "Period: 1900-1919\n",
      "1.9 [1.3,2.4]\n",
      "Period: 1920-1939\n",
      "1.8 [1.3,2.2]\n",
      "Period: 1940-1959\n",
      "1.5 [1.1,2.0]\n",
      "Period: 1960-1979\n",
      "1.5 [1.0,1.9]\n",
      "Period: 1980-1999\n",
      "2.1 [1.6,2.6]\n",
      "Period: 2000-2019\n",
      "2.7 [2.0,3.4]\n",
      "Period: 1890-1959\n",
      "1.8 [1.2,2.3]\n",
      "Period: 1960-2021\n",
      "2.1 [1.6,2.7]\n",
      "Period: 1890-2021\n",
      "1.9 [1.4,2.5]\n"
     ]
    }
   ],
   "source": [
    "print('Format: Median [0.05, 0.95]')\n",
    "\n",
    "list_st = [1900, 1920, 1940, 1960, 1980, 2000, 1890, 1960, 1890]\n",
    "list_pr = [19, 19, 19, 19, 19, 19, 69, 61, 131]\n",
    "\n",
    "for idx, res in enumerate([rates_q_nr, rates_q_nt, rates_q_na, rates_q_pd]):\n",
    "    print('')\n",
    "    print(f'Model: {short_names[idx]}')\n",
    "    \n",
    "    trend_lst = []\n",
    "    if idx == 0:\n",
    "        period_lst = []\n",
    "          \n",
    "    for idx2, st in enumerate(list_st):\n",
    "        avg_rate = round(res.loc[st:st+list_pr[idx2],'0.5'].mean(axis=0),1)\n",
    "        low_bound = round(res.loc[st:st+list_pr[idx2],'0.05'].mean(axis=0),1)\n",
    "        high_bound = round(res.loc[st:st+list_pr[idx2],'0.95'].mean(axis=0),1)\n",
    "        \n",
    "        print(f'Period: {st}-{st+list_pr[idx2]}')\n",
    "        print(f'{avg_rate} [{low_bound},{high_bound}]')\n",
    "        \n",
    "        if idx == 0:\n",
    "            period_lst.append(f'{st}-{st+list_pr[idx2]}')\n",
    "        \n",
    "        trend_lst.append(f'{avg_rate} [{low_bound},{high_bound}]')\n",
    "        \n",
    "    if idx == 0:\n",
    "        df = pd.DataFrame({'Period': period_lst}).set_index('Period')\n",
    "        \n",
    "    df[short_names[idx]] = trend_lst\n",
    "        \n",
    "table_rates = df.T"
   ]
  },
  {
   "cell_type": "code",
   "execution_count": 93,
   "id": "a06159d1",
   "metadata": {},
   "outputs": [
    {
     "name": "stdout",
     "output_type": "stream",
     "text": [
      "Format: unc{Median}{0.05}{0.95}\n",
      "\n",
      "Model: Tr\n",
      "\n",
      "Model: TrNc\n",
      "\n",
      "Model: TrNcW\n",
      "\n",
      "Model: TrNcPd\n"
     ]
    }
   ],
   "source": [
    "# changed format\n",
    "\n",
    "print('Format: unc{Median}{0.05}{0.95}')\n",
    "\n",
    "for idx, res in enumerate([rates_q_nr, rates_q_nt, rates_q_na, rates_q_pd]):\n",
    "    print('')\n",
    "    print(f'Model: {short_names[idx]}')\n",
    "    \n",
    "    trend_lst = []\n",
    "    if idx == 0:\n",
    "        period_lst = []\n",
    "          \n",
    "    for idx2, st in enumerate(list_st):\n",
    "        avg_rate = round(res.loc[st:st+list_pr[idx2],'0.5'].mean(axis=0),1)\n",
    "        low_bound = round(res.loc[st:st+list_pr[idx2],'0.05'].mean(axis=0),1)\n",
    "        high_bound = round(res.loc[st:st+list_pr[idx2],'0.95'].mean(axis=0),1)\n",
    "        \n",
    "        # print(f'Period: {st}-{st+list_pr[idx2]}')\n",
    "        # print(f'{avg_rate} [{low_bound},{high_bound}]')\n",
    "        \n",
    "        if idx == 0:\n",
    "            y1 = f'{st}'\n",
    "            y2 = f'{st+list_pr[idx2]}'\n",
    "            if y1[:2]==y2[:2]:\n",
    "                y2 = y2[2:]\n",
    "            \n",
    "            period_lst.append(f'{y1}--{y2}')\n",
    "        \n",
    "        trend_lst.append(f'\\\\unc{{{avg_rate}}}{{{low_bound}}}{{{high_bound}}}')\n",
    "        \n",
    "    if idx == 0:\n",
    "        df_ = pd.DataFrame({'Period': period_lst}).set_index('Period')\n",
    "        \n",
    "    df_[short_names[idx]] = trend_lst\n",
    "        \n",
    "table_rates_ = df_.T"
   ]
  },
  {
   "cell_type": "markdown",
   "id": "b1d668d7-2573-491f-b2b3-9ca22a2deb81",
   "metadata": {
    "tags": []
   },
   "source": [
    "### 3.3 Table 2: Trend values for different time periods\n",
    "Make table containing all different trends mentioned in the paper\n",
    "\n",
    "For the 4 GAMs: Tr, TrNc, TrNcZw, TrNcPd\n",
    "\n",
    "For the sea-level trend: 1900-1919, 1920-1939, 1940-1959, 1960-1979, 1980-1999, 2000-2019, 1890-2019, 1890-1960s 1960s-2019\n",
    "\n",
    "For the wind-driven sea-level: whole period, two half periods. Where to add this?"
   ]
  },
  {
   "cell_type": "code",
   "execution_count": 94,
   "id": "cf3858d0-ad79-499e-bc76-330c67e24e97",
   "metadata": {},
   "outputs": [
    {
     "data": {
      "text/html": [
       "<div>\n",
       "<style scoped>\n",
       "    .dataframe tbody tr th:only-of-type {\n",
       "        vertical-align: middle;\n",
       "    }\n",
       "\n",
       "    .dataframe tbody tr th {\n",
       "        vertical-align: top;\n",
       "    }\n",
       "\n",
       "    .dataframe thead th {\n",
       "        text-align: right;\n",
       "    }\n",
       "</style>\n",
       "<table border=\"1\" class=\"dataframe\">\n",
       "  <thead>\n",
       "    <tr style=\"text-align: right;\">\n",
       "      <th>Period</th>\n",
       "      <th>1900-1919</th>\n",
       "      <th>1920-1939</th>\n",
       "      <th>1940-1959</th>\n",
       "      <th>1960-1979</th>\n",
       "      <th>1980-1999</th>\n",
       "      <th>2000-2019</th>\n",
       "      <th>1890-1959</th>\n",
       "      <th>1960-2021</th>\n",
       "      <th>1890-2021</th>\n",
       "    </tr>\n",
       "  </thead>\n",
       "  <tbody>\n",
       "    <tr>\n",
       "      <th>Tr</th>\n",
       "      <td>2.2 [1.4,2.9]</td>\n",
       "      <td>1.7 [1.1,2.3]</td>\n",
       "      <td>1.6 [1.0,2.3]</td>\n",
       "      <td>1.8 [1.2,2.5]</td>\n",
       "      <td>2.3 [1.6,2.9]</td>\n",
       "      <td>2.7 [1.8,3.7]</td>\n",
       "      <td>1.9 [1.1,2.6]</td>\n",
       "      <td>2.3 [1.5,3.0]</td>\n",
       "      <td>2.1 [1.3,2.8]</td>\n",
       "    </tr>\n",
       "    <tr>\n",
       "      <th>TrNc</th>\n",
       "      <td>2.3 [1.8,2.8]</td>\n",
       "      <td>1.7 [1.3,2.1]</td>\n",
       "      <td>1.6 [1.2,2.0]</td>\n",
       "      <td>1.8 [1.4,2.2]</td>\n",
       "      <td>2.3 [1.9,2.7]</td>\n",
       "      <td>2.7 [2.1,3.4]</td>\n",
       "      <td>1.9 [1.5,2.4]</td>\n",
       "      <td>2.3 [1.8,2.8]</td>\n",
       "      <td>2.1 [1.6,2.6]</td>\n",
       "    </tr>\n",
       "    <tr>\n",
       "      <th>TrNcW</th>\n",
       "      <td>1.7 [1.3,2.2]</td>\n",
       "      <td>1.7 [1.4,2.1]</td>\n",
       "      <td>1.5 [1.2,1.9]</td>\n",
       "      <td>1.4 [1.1,1.7]</td>\n",
       "      <td>2.2 [1.9,2.6]</td>\n",
       "      <td>2.9 [2.4,3.5]</td>\n",
       "      <td>1.7 [1.2,2.1]</td>\n",
       "      <td>2.2 [1.8,2.6]</td>\n",
       "      <td>1.9 [1.5,2.3]</td>\n",
       "    </tr>\n",
       "    <tr>\n",
       "      <th>TrNcPd</th>\n",
       "      <td>1.9 [1.3,2.4]</td>\n",
       "      <td>1.8 [1.3,2.2]</td>\n",
       "      <td>1.5 [1.1,2.0]</td>\n",
       "      <td>1.5 [1.0,1.9]</td>\n",
       "      <td>2.1 [1.6,2.6]</td>\n",
       "      <td>2.7 [2.0,3.4]</td>\n",
       "      <td>1.8 [1.2,2.3]</td>\n",
       "      <td>2.1 [1.6,2.7]</td>\n",
       "      <td>1.9 [1.4,2.5]</td>\n",
       "    </tr>\n",
       "  </tbody>\n",
       "</table>\n",
       "</div>"
      ],
      "text/plain": [
       "Period      1900-1919      1920-1939      1940-1959      1960-1979  \\\n",
       "Tr      2.2 [1.4,2.9]  1.7 [1.1,2.3]  1.6 [1.0,2.3]  1.8 [1.2,2.5]   \n",
       "TrNc    2.3 [1.8,2.8]  1.7 [1.3,2.1]  1.6 [1.2,2.0]  1.8 [1.4,2.2]   \n",
       "TrNcW   1.7 [1.3,2.2]  1.7 [1.4,2.1]  1.5 [1.2,1.9]  1.4 [1.1,1.7]   \n",
       "TrNcPd  1.9 [1.3,2.4]  1.8 [1.3,2.2]  1.5 [1.1,2.0]  1.5 [1.0,1.9]   \n",
       "\n",
       "Period      1980-1999      2000-2019      1890-1959      1960-2021  \\\n",
       "Tr      2.3 [1.6,2.9]  2.7 [1.8,3.7]  1.9 [1.1,2.6]  2.3 [1.5,3.0]   \n",
       "TrNc    2.3 [1.9,2.7]  2.7 [2.1,3.4]  1.9 [1.5,2.4]  2.3 [1.8,2.8]   \n",
       "TrNcW   2.2 [1.9,2.6]  2.9 [2.4,3.5]  1.7 [1.2,2.1]  2.2 [1.8,2.6]   \n",
       "TrNcPd  2.1 [1.6,2.6]  2.7 [2.0,3.4]  1.8 [1.2,2.3]  2.1 [1.6,2.7]   \n",
       "\n",
       "Period      1890-2021  \n",
       "Tr      2.1 [1.3,2.8]  \n",
       "TrNc    2.1 [1.6,2.6]  \n",
       "TrNcW   1.9 [1.5,2.3]  \n",
       "TrNcPd  1.9 [1.4,2.5]  "
      ]
     },
     "execution_count": 94,
     "metadata": {},
     "output_type": "execute_result"
    }
   ],
   "source": [
    "table_rates"
   ]
  },
  {
   "cell_type": "code",
   "execution_count": 95,
   "id": "a8d74b7d-c2a3-4f52-84f9-1862c71e232a",
   "metadata": {},
   "outputs": [
    {
     "name": "stdout",
     "output_type": "stream",
     "text": [
      "\\begin{tabular}{llllllllll}\n",
      "\\toprule\n",
      "Period &      1900-1919 &      1920-1939 &      1940-1959 &      1960-1979 &      1980-1999 &      2000-2019 &      1890-1959 &      1960-2021 &      1890-2021 \\\\\n",
      "\\midrule\n",
      "Tr     &  2.2 [1.4,2.9] &  1.7 [1.1,2.3] &  1.6 [1.0,2.3] &  1.8 [1.2,2.5] &  2.3 [1.6,2.9] &  2.7 [1.8,3.7] &  1.9 [1.1,2.6] &  2.3 [1.5,3.0] &  2.1 [1.3,2.8] \\\\\n",
      "TrNc   &  2.3 [1.8,2.8] &  1.7 [1.3,2.1] &  1.6 [1.2,2.0] &  1.8 [1.4,2.2] &  2.3 [1.9,2.7] &  2.7 [2.1,3.4] &  1.9 [1.5,2.4] &  2.3 [1.8,2.8] &  2.1 [1.6,2.6] \\\\\n",
      "TrNcW  &  1.7 [1.3,2.2] &  1.7 [1.4,2.1] &  1.5 [1.2,1.9] &  1.4 [1.1,1.7] &  2.2 [1.9,2.6] &  2.9 [2.4,3.5] &  1.7 [1.2,2.1] &  2.2 [1.8,2.6] &  1.9 [1.5,2.3] \\\\\n",
      "TrNcPd &  1.9 [1.3,2.4] &  1.8 [1.3,2.2] &  1.5 [1.1,2.0] &  1.5 [1.0,1.9] &  2.1 [1.6,2.6] &  2.7 [2.0,3.4] &  1.8 [1.2,2.3] &  2.1 [1.6,2.7] &  1.9 [1.4,2.5] \\\\\n",
      "\\bottomrule\n",
      "\\end{tabular}\n",
      "\n"
     ]
    },
    {
     "name": "stderr",
     "output_type": "stream",
     "text": [
      "/var/folders/sg/bjgd139d48v526p07tp867mh0000gn/T/ipykernel_37633/1721568710.py:1: FutureWarning: In future versions `DataFrame.to_latex` is expected to utilise the base implementation of `Styler.to_latex` for formatting and rendering. The arguments signature may therefore change. It is recommended instead to use `DataFrame.style.to_latex` which also contains additional functionality.\n",
      "  print(table_rates.to_latex())\n"
     ]
    }
   ],
   "source": [
    "print(table_rates.to_latex())"
   ]
  },
  {
   "cell_type": "code",
   "execution_count": 96,
   "id": "5b19ba0c",
   "metadata": {},
   "outputs": [
    {
     "data": {
      "text/html": [
       "<div>\n",
       "<style scoped>\n",
       "    .dataframe tbody tr th:only-of-type {\n",
       "        vertical-align: middle;\n",
       "    }\n",
       "\n",
       "    .dataframe tbody tr th {\n",
       "        vertical-align: top;\n",
       "    }\n",
       "\n",
       "    .dataframe thead th {\n",
       "        text-align: right;\n",
       "    }\n",
       "</style>\n",
       "<table border=\"1\" class=\"dataframe\">\n",
       "  <thead>\n",
       "    <tr style=\"text-align: right;\">\n",
       "      <th>Period</th>\n",
       "      <th>1900--19</th>\n",
       "      <th>1920--39</th>\n",
       "      <th>1940--59</th>\n",
       "      <th>1960--79</th>\n",
       "      <th>1980--99</th>\n",
       "      <th>2000--19</th>\n",
       "      <th>1890--1959</th>\n",
       "      <th>1960--2021</th>\n",
       "      <th>1890--2021</th>\n",
       "    </tr>\n",
       "  </thead>\n",
       "  <tbody>\n",
       "    <tr>\n",
       "      <th>Tr</th>\n",
       "      <td>\\unc{2.2}{1.4}{2.9}</td>\n",
       "      <td>\\unc{1.7}{1.1}{2.3}</td>\n",
       "      <td>\\unc{1.6}{1.0}{2.3}</td>\n",
       "      <td>\\unc{1.8}{1.2}{2.5}</td>\n",
       "      <td>\\unc{2.3}{1.6}{2.9}</td>\n",
       "      <td>\\unc{2.7}{1.8}{3.7}</td>\n",
       "      <td>\\unc{1.9}{1.1}{2.6}</td>\n",
       "      <td>\\unc{2.3}{1.5}{3.0}</td>\n",
       "      <td>\\unc{2.1}{1.3}{2.8}</td>\n",
       "    </tr>\n",
       "    <tr>\n",
       "      <th>TrNc</th>\n",
       "      <td>\\unc{2.3}{1.8}{2.8}</td>\n",
       "      <td>\\unc{1.7}{1.3}{2.1}</td>\n",
       "      <td>\\unc{1.6}{1.2}{2.0}</td>\n",
       "      <td>\\unc{1.8}{1.4}{2.2}</td>\n",
       "      <td>\\unc{2.3}{1.9}{2.7}</td>\n",
       "      <td>\\unc{2.7}{2.1}{3.4}</td>\n",
       "      <td>\\unc{1.9}{1.5}{2.4}</td>\n",
       "      <td>\\unc{2.3}{1.8}{2.8}</td>\n",
       "      <td>\\unc{2.1}{1.6}{2.6}</td>\n",
       "    </tr>\n",
       "    <tr>\n",
       "      <th>TrNcW</th>\n",
       "      <td>\\unc{1.7}{1.3}{2.2}</td>\n",
       "      <td>\\unc{1.7}{1.4}{2.1}</td>\n",
       "      <td>\\unc{1.5}{1.2}{1.9}</td>\n",
       "      <td>\\unc{1.4}{1.1}{1.7}</td>\n",
       "      <td>\\unc{2.2}{1.9}{2.6}</td>\n",
       "      <td>\\unc{2.9}{2.4}{3.5}</td>\n",
       "      <td>\\unc{1.7}{1.2}{2.1}</td>\n",
       "      <td>\\unc{2.2}{1.8}{2.6}</td>\n",
       "      <td>\\unc{1.9}{1.5}{2.3}</td>\n",
       "    </tr>\n",
       "    <tr>\n",
       "      <th>TrNcPd</th>\n",
       "      <td>\\unc{1.9}{1.3}{2.4}</td>\n",
       "      <td>\\unc{1.8}{1.3}{2.2}</td>\n",
       "      <td>\\unc{1.5}{1.1}{2.0}</td>\n",
       "      <td>\\unc{1.5}{1.0}{1.9}</td>\n",
       "      <td>\\unc{2.1}{1.6}{2.6}</td>\n",
       "      <td>\\unc{2.7}{2.0}{3.4}</td>\n",
       "      <td>\\unc{1.8}{1.2}{2.3}</td>\n",
       "      <td>\\unc{2.1}{1.6}{2.7}</td>\n",
       "      <td>\\unc{1.9}{1.4}{2.5}</td>\n",
       "    </tr>\n",
       "  </tbody>\n",
       "</table>\n",
       "</div>"
      ],
      "text/plain": [
       "Period             1900--19             1920--39             1940--59  \\\n",
       "Tr      \\unc{2.2}{1.4}{2.9}  \\unc{1.7}{1.1}{2.3}  \\unc{1.6}{1.0}{2.3}   \n",
       "TrNc    \\unc{2.3}{1.8}{2.8}  \\unc{1.7}{1.3}{2.1}  \\unc{1.6}{1.2}{2.0}   \n",
       "TrNcW   \\unc{1.7}{1.3}{2.2}  \\unc{1.7}{1.4}{2.1}  \\unc{1.5}{1.2}{1.9}   \n",
       "TrNcPd  \\unc{1.9}{1.3}{2.4}  \\unc{1.8}{1.3}{2.2}  \\unc{1.5}{1.1}{2.0}   \n",
       "\n",
       "Period             1960--79             1980--99             2000--19  \\\n",
       "Tr      \\unc{1.8}{1.2}{2.5}  \\unc{2.3}{1.6}{2.9}  \\unc{2.7}{1.8}{3.7}   \n",
       "TrNc    \\unc{1.8}{1.4}{2.2}  \\unc{2.3}{1.9}{2.7}  \\unc{2.7}{2.1}{3.4}   \n",
       "TrNcW   \\unc{1.4}{1.1}{1.7}  \\unc{2.2}{1.9}{2.6}  \\unc{2.9}{2.4}{3.5}   \n",
       "TrNcPd  \\unc{1.5}{1.0}{1.9}  \\unc{2.1}{1.6}{2.6}  \\unc{2.7}{2.0}{3.4}   \n",
       "\n",
       "Period           1890--1959           1960--2021           1890--2021  \n",
       "Tr      \\unc{1.9}{1.1}{2.6}  \\unc{2.3}{1.5}{3.0}  \\unc{2.1}{1.3}{2.8}  \n",
       "TrNc    \\unc{1.9}{1.5}{2.4}  \\unc{2.3}{1.8}{2.8}  \\unc{2.1}{1.6}{2.6}  \n",
       "TrNcW   \\unc{1.7}{1.2}{2.1}  \\unc{2.2}{1.8}{2.6}  \\unc{1.9}{1.5}{2.3}  \n",
       "TrNcPd  \\unc{1.8}{1.2}{2.3}  \\unc{2.1}{1.6}{2.7}  \\unc{1.9}{1.4}{2.5}  "
      ]
     },
     "execution_count": 96,
     "metadata": {},
     "output_type": "execute_result"
    }
   ],
   "source": [
    "table_rates_"
   ]
  },
  {
   "cell_type": "code",
   "execution_count": 97,
   "id": "0b4745a1",
   "metadata": {},
   "outputs": [
    {
     "name": "stdout",
     "output_type": "stream",
     "text": [
      "\\begin{tabular}{llllllllll}\n",
      "\\toprule\n",
      "Period &             1900--19 &             1920--39 &             1940--59 &             1960--79 &             1980--99 &             2000--19 &           1890--1959 &           1960--2021 &           1890--2021 \\\\\n",
      "\\midrule\n",
      "Tr     &  \\textbackslash unc\\{2.2\\}\\{1.4\\}\\{2.9\\} &  \\textbackslash unc\\{1.7\\}\\{1.1\\}\\{2.3\\} &  \\textbackslash unc\\{1.6\\}\\{1.0\\}\\{2.3\\} &  \\textbackslash unc\\{1.8\\}\\{1.2\\}\\{2.5\\} &  \\textbackslash unc\\{2.3\\}\\{1.6\\}\\{2.9\\} &  \\textbackslash unc\\{2.7\\}\\{1.8\\}\\{3.7\\} &  \\textbackslash unc\\{1.9\\}\\{1.1\\}\\{2.6\\} &  \\textbackslash unc\\{2.3\\}\\{1.5\\}\\{3.0\\} &  \\textbackslash unc\\{2.1\\}\\{1.3\\}\\{2.8\\} \\\\\n",
      "TrNc   &  \\textbackslash unc\\{2.3\\}\\{1.8\\}\\{2.8\\} &  \\textbackslash unc\\{1.7\\}\\{1.3\\}\\{2.1\\} &  \\textbackslash unc\\{1.6\\}\\{1.2\\}\\{2.0\\} &  \\textbackslash unc\\{1.8\\}\\{1.4\\}\\{2.2\\} &  \\textbackslash unc\\{2.3\\}\\{1.9\\}\\{2.7\\} &  \\textbackslash unc\\{2.7\\}\\{2.1\\}\\{3.4\\} &  \\textbackslash unc\\{1.9\\}\\{1.5\\}\\{2.4\\} &  \\textbackslash unc\\{2.3\\}\\{1.8\\}\\{2.8\\} &  \\textbackslash unc\\{2.1\\}\\{1.6\\}\\{2.6\\} \\\\\n",
      "TrNcW  &  \\textbackslash unc\\{1.7\\}\\{1.3\\}\\{2.2\\} &  \\textbackslash unc\\{1.7\\}\\{1.4\\}\\{2.1\\} &  \\textbackslash unc\\{1.5\\}\\{1.2\\}\\{1.9\\} &  \\textbackslash unc\\{1.4\\}\\{1.1\\}\\{1.7\\} &  \\textbackslash unc\\{2.2\\}\\{1.9\\}\\{2.6\\} &  \\textbackslash unc\\{2.9\\}\\{2.4\\}\\{3.5\\} &  \\textbackslash unc\\{1.7\\}\\{1.2\\}\\{2.1\\} &  \\textbackslash unc\\{2.2\\}\\{1.8\\}\\{2.6\\} &  \\textbackslash unc\\{1.9\\}\\{1.5\\}\\{2.3\\} \\\\\n",
      "TrNcPd &  \\textbackslash unc\\{1.9\\}\\{1.3\\}\\{2.4\\} &  \\textbackslash unc\\{1.8\\}\\{1.3\\}\\{2.2\\} &  \\textbackslash unc\\{1.5\\}\\{1.1\\}\\{2.0\\} &  \\textbackslash unc\\{1.5\\}\\{1.0\\}\\{1.9\\} &  \\textbackslash unc\\{2.1\\}\\{1.6\\}\\{2.6\\} &  \\textbackslash unc\\{2.7\\}\\{2.0\\}\\{3.4\\} &  \\textbackslash unc\\{1.8\\}\\{1.2\\}\\{2.3\\} &  \\textbackslash unc\\{2.1\\}\\{1.6\\}\\{2.7\\} &  \\textbackslash unc\\{1.9\\}\\{1.4\\}\\{2.5\\} \\\\\n",
      "\\bottomrule\n",
      "\\end{tabular}\n",
      "\n"
     ]
    },
    {
     "name": "stderr",
     "output_type": "stream",
     "text": [
      "/var/folders/sg/bjgd139d48v526p07tp867mh0000gn/T/ipykernel_37633/2649762718.py:1: FutureWarning: In future versions `DataFrame.to_latex` is expected to utilise the base implementation of `Styler.to_latex` for formatting and rendering. The arguments signature may therefore change. It is recommended instead to use `DataFrame.style.to_latex` which also contains additional functionality.\n",
      "  print(table_rates_.to_latex())\n"
     ]
    }
   ],
   "source": [
    "print(table_rates_.to_latex())"
   ]
  },
  {
   "cell_type": "markdown",
   "id": "159d333c",
   "metadata": {},
   "source": [
    "#### post-processing steps of string\n",
    "1. in the above output `\\textbackslash unc` needs to be replaced by `\\unc`, and both curly bracket need to be un-escaped, i.e. `\\{` is replaced by `{` and the same for `}`\n",
    "2. the short model name should be italizised: e.g., `Tr` to `\\textit{Tr}`\n",
    "3. the columns look better when centered: so `\\begin{tabular}{llllllllll}` becomes `\\begin{tabular}{lccccccccc}`"
   ]
  },
  {
   "cell_type": "markdown",
   "id": "ec38a573-7bcd-44bd-ba9b-818025c8eca3",
   "metadata": {},
   "source": [
    "## 4. Hypothesis testing: compute some p-values"
   ]
  },
  {
   "cell_type": "markdown",
   "id": "dd473ea5-500f-484c-b650-59bf62616c2a",
   "metadata": {},
   "source": [
    "### Hypothesis that the rates are the same at different years"
   ]
  },
  {
   "cell_type": "code",
   "execution_count": 98,
   "id": "41da9496-3c88-4787-8204-d544e2759a80",
   "metadata": {},
   "outputs": [],
   "source": [
    "t1 = 2019\n",
    "all_t0 = [1900, 1960]\n",
    "\n",
    "list_rates = [rates_nr, rates_nt, rates_na, rates_pd]\n",
    "list_rates_q = [rates_q_nr, rates_q_nt, rates_q_na, rates_q_pd]\n",
    "\n",
    "col_names = [f'p-values [r({t1}) , r({y})]' for y in all_t0]\n",
    "\n",
    "res_ar = np.zeros([4, 2])\n",
    "\n",
    "for idt, t0 in enumerate(all_t0):\n",
    "    for idd, (rates, rates_q) in enumerate(zip(list_rates, list_rates_q)):\n",
    "\n",
    "        sigma = np.std(rates.loc[t1] - rates.loc[t0])\n",
    "\n",
    "        # observed difference in rate\n",
    "        drate = rates_q['0.5'].loc[t1] - rates_q['0.5'].loc[t0]\n",
    "\n",
    "        # p-value is the probability that the estimated rate difference would exceed  \n",
    "        # the value drate if the true rates were equal\n",
    "        # (this looks like your formula!)\n",
    "        res_ar[idd, idt] = round(1-norm.cdf(drate/sigma), 2)\n",
    "    \n",
    "res_df = pd.DataFrame(res_ar, \n",
    "                      index=short_names, \n",
    "                      columns=col_names)\n",
    "\n",
    "res_df.index.name = 'Statistical model'"
   ]
  },
  {
   "cell_type": "code",
   "execution_count": 99,
   "id": "bd7e685d-3991-4373-a587-3d5382630274",
   "metadata": {},
   "outputs": [
    {
     "data": {
      "text/html": [
       "<div>\n",
       "<style scoped>\n",
       "    .dataframe tbody tr th:only-of-type {\n",
       "        vertical-align: middle;\n",
       "    }\n",
       "\n",
       "    .dataframe tbody tr th {\n",
       "        vertical-align: top;\n",
       "    }\n",
       "\n",
       "    .dataframe thead th {\n",
       "        text-align: right;\n",
       "    }\n",
       "</style>\n",
       "<table border=\"1\" class=\"dataframe\">\n",
       "  <thead>\n",
       "    <tr style=\"text-align: right;\">\n",
       "      <th></th>\n",
       "      <th>p-values [r(2019) , r(1900)]</th>\n",
       "      <th>p-values [r(2019) , r(1960)]</th>\n",
       "    </tr>\n",
       "    <tr>\n",
       "      <th>Statistical model</th>\n",
       "      <th></th>\n",
       "      <th></th>\n",
       "    </tr>\n",
       "  </thead>\n",
       "  <tbody>\n",
       "    <tr>\n",
       "      <th>Tr</th>\n",
       "      <td>0.25</td>\n",
       "      <td>0.08</td>\n",
       "    </tr>\n",
       "    <tr>\n",
       "      <th>TrNc</th>\n",
       "      <td>0.29</td>\n",
       "      <td>0.02</td>\n",
       "    </tr>\n",
       "    <tr>\n",
       "      <th>TrNcW</th>\n",
       "      <td>0.00</td>\n",
       "      <td>0.00</td>\n",
       "    </tr>\n",
       "    <tr>\n",
       "      <th>TrNcPd</th>\n",
       "      <td>0.12</td>\n",
       "      <td>0.02</td>\n",
       "    </tr>\n",
       "  </tbody>\n",
       "</table>\n",
       "</div>"
      ],
      "text/plain": [
       "                   p-values [r(2019) , r(1900)]  p-values [r(2019) , r(1960)]\n",
       "Statistical model                                                            \n",
       "Tr                                         0.25                          0.08\n",
       "TrNc                                       0.29                          0.02\n",
       "TrNcW                                      0.00                          0.00\n",
       "TrNcPd                                     0.12                          0.02"
      ]
     },
     "execution_count": 99,
     "metadata": {},
     "output_type": "execute_result"
    }
   ],
   "source": [
    "res_df"
   ]
  },
  {
   "cell_type": "markdown",
   "id": "0b3da268-a286-4ab2-b6d7-81634bfafd28",
   "metadata": {},
   "source": [
    "### Hypothesis that the rates are the same at different periods"
   ]
  },
  {
   "cell_type": "code",
   "execution_count": 100,
   "id": "48a4d21c-1000-4ad7-a296-5f6a10ec3c28",
   "metadata": {},
   "outputs": [],
   "source": [
    "t1 = 2000\n",
    "all_t0 = [1900, 1920, 1940]\n",
    "\n",
    "list_rates = [rates_nr, rates_nt, rates_na, rates_pd]\n",
    "list_rates_q = [rates_q_nr, rates_q_nt, rates_q_na, rates_q_pd]\n",
    "\n",
    "col_names = [f'$r_{{{t1}-{t1+19}}}$ vs $r_{{{y}-{y+19}}}$' for y in all_t0]\n",
    "\n",
    "res_ar = np.zeros([4, 3])\n",
    "\n",
    "for idt, t0 in enumerate(all_t0):\n",
    "    for idd, (rates, rates_q) in enumerate(zip(list_rates, list_rates_q)):\n",
    "        sigma = np.std(rates.loc[t1: t1+19].mean(axis=0) - \n",
    "                       rates.loc[t0: t0+19].mean(axis=0))\n",
    "\n",
    "        # observed difference in rate\n",
    "        drate = (rates_q['0.5'].loc[t1: t1+19].mean(axis=0) - \n",
    "                 rates_q['0.5'].loc[t0: t0+19].mean(axis=0))\n",
    "\n",
    "        # p-value is the probability that the estimated rate difference would exceed  \n",
    "        # the value drate if the true rates were equal\n",
    "        res_ar[idd, idt] = round(1-norm.cdf(drate/sigma), 2)\n",
    "    \n",
    "res_df = pd.DataFrame(res_ar, \n",
    "                      index=short_names, \n",
    "                      columns=col_names)\n",
    "\n",
    "res_df.index.name = 'Statistical model'"
   ]
  },
  {
   "cell_type": "code",
   "execution_count": 101,
   "id": "3b3ec34a-015b-42e5-b697-1abbed2be00f",
   "metadata": {},
   "outputs": [
    {
     "data": {
      "text/html": [
       "<div>\n",
       "<style scoped>\n",
       "    .dataframe tbody tr th:only-of-type {\n",
       "        vertical-align: middle;\n",
       "    }\n",
       "\n",
       "    .dataframe tbody tr th {\n",
       "        vertical-align: top;\n",
       "    }\n",
       "\n",
       "    .dataframe thead th {\n",
       "        text-align: right;\n",
       "    }\n",
       "</style>\n",
       "<table border=\"1\" class=\"dataframe\">\n",
       "  <thead>\n",
       "    <tr style=\"text-align: right;\">\n",
       "      <th></th>\n",
       "      <th>$r_{2000-2019}$ vs $r_{1900-1919}$</th>\n",
       "      <th>$r_{2000-2019}$ vs $r_{1920-1939}$</th>\n",
       "      <th>$r_{2000-2019}$ vs $r_{1940-1959}$</th>\n",
       "    </tr>\n",
       "    <tr>\n",
       "      <th>Statistical model</th>\n",
       "      <th></th>\n",
       "      <th></th>\n",
       "      <th></th>\n",
       "    </tr>\n",
       "  </thead>\n",
       "  <tbody>\n",
       "    <tr>\n",
       "      <th>Tr</th>\n",
       "      <td>0.23</td>\n",
       "      <td>0.05</td>\n",
       "      <td>0.06</td>\n",
       "    </tr>\n",
       "    <tr>\n",
       "      <th>TrNc</th>\n",
       "      <td>0.15</td>\n",
       "      <td>0.01</td>\n",
       "      <td>0.01</td>\n",
       "    </tr>\n",
       "    <tr>\n",
       "      <th>TrNcW</th>\n",
       "      <td>0.00</td>\n",
       "      <td>0.00</td>\n",
       "      <td>0.00</td>\n",
       "    </tr>\n",
       "    <tr>\n",
       "      <th>TrNcPd</th>\n",
       "      <td>0.05</td>\n",
       "      <td>0.02</td>\n",
       "      <td>0.01</td>\n",
       "    </tr>\n",
       "  </tbody>\n",
       "</table>\n",
       "</div>"
      ],
      "text/plain": [
       "                   $r_{2000-2019}$ vs $r_{1900-1919}$  \\\n",
       "Statistical model                                       \n",
       "Tr                                               0.23   \n",
       "TrNc                                             0.15   \n",
       "TrNcW                                            0.00   \n",
       "TrNcPd                                           0.05   \n",
       "\n",
       "                   $r_{2000-2019}$ vs $r_{1920-1939}$  \\\n",
       "Statistical model                                       \n",
       "Tr                                               0.05   \n",
       "TrNc                                             0.01   \n",
       "TrNcW                                            0.00   \n",
       "TrNcPd                                           0.02   \n",
       "\n",
       "                   $r_{2000-2019}$ vs $r_{1940-1959}$  \n",
       "Statistical model                                      \n",
       "Tr                                               0.06  \n",
       "TrNc                                             0.01  \n",
       "TrNcW                                            0.00  \n",
       "TrNcPd                                           0.01  "
      ]
     },
     "execution_count": 101,
     "metadata": {},
     "output_type": "execute_result"
    }
   ],
   "source": [
    "res_df"
   ]
  },
  {
   "cell_type": "code",
   "execution_count": 102,
   "id": "4166ccb0-113a-41c1-ba16-d68137aeb469",
   "metadata": {},
   "outputs": [],
   "source": [
    "res_df_100 = res_df*100  # Show results in percentages"
   ]
  },
  {
   "cell_type": "code",
   "execution_count": 103,
   "id": "d9a1738c-a76c-4e51-adb3-72f252dda648",
   "metadata": {},
   "outputs": [
    {
     "data": {
      "text/html": [
       "<div>\n",
       "<style scoped>\n",
       "    .dataframe tbody tr th:only-of-type {\n",
       "        vertical-align: middle;\n",
       "    }\n",
       "\n",
       "    .dataframe tbody tr th {\n",
       "        vertical-align: top;\n",
       "    }\n",
       "\n",
       "    .dataframe thead th {\n",
       "        text-align: right;\n",
       "    }\n",
       "</style>\n",
       "<table border=\"1\" class=\"dataframe\">\n",
       "  <thead>\n",
       "    <tr style=\"text-align: right;\">\n",
       "      <th></th>\n",
       "      <th>$r_{2000-2019}$ vs $r_{1900-1919}$</th>\n",
       "      <th>$r_{2000-2019}$ vs $r_{1920-1939}$</th>\n",
       "      <th>$r_{2000-2019}$ vs $r_{1940-1959}$</th>\n",
       "    </tr>\n",
       "    <tr>\n",
       "      <th>Statistical model</th>\n",
       "      <th></th>\n",
       "      <th></th>\n",
       "      <th></th>\n",
       "    </tr>\n",
       "  </thead>\n",
       "  <tbody>\n",
       "    <tr>\n",
       "      <th>Tr</th>\n",
       "      <td>23.0</td>\n",
       "      <td>5.0</td>\n",
       "      <td>6.0</td>\n",
       "    </tr>\n",
       "    <tr>\n",
       "      <th>TrNc</th>\n",
       "      <td>15.0</td>\n",
       "      <td>1.0</td>\n",
       "      <td>1.0</td>\n",
       "    </tr>\n",
       "    <tr>\n",
       "      <th>TrNcW</th>\n",
       "      <td>0.0</td>\n",
       "      <td>0.0</td>\n",
       "      <td>0.0</td>\n",
       "    </tr>\n",
       "    <tr>\n",
       "      <th>TrNcPd</th>\n",
       "      <td>5.0</td>\n",
       "      <td>2.0</td>\n",
       "      <td>1.0</td>\n",
       "    </tr>\n",
       "  </tbody>\n",
       "</table>\n",
       "</div>"
      ],
      "text/plain": [
       "                   $r_{2000-2019}$ vs $r_{1900-1919}$  \\\n",
       "Statistical model                                       \n",
       "Tr                                               23.0   \n",
       "TrNc                                             15.0   \n",
       "TrNcW                                             0.0   \n",
       "TrNcPd                                            5.0   \n",
       "\n",
       "                   $r_{2000-2019}$ vs $r_{1920-1939}$  \\\n",
       "Statistical model                                       \n",
       "Tr                                                5.0   \n",
       "TrNc                                              1.0   \n",
       "TrNcW                                             0.0   \n",
       "TrNcPd                                            2.0   \n",
       "\n",
       "                   $r_{2000-2019}$ vs $r_{1940-1959}$  \n",
       "Statistical model                                      \n",
       "Tr                                                6.0  \n",
       "TrNc                                              1.0  \n",
       "TrNcW                                             0.0  \n",
       "TrNcPd                                            1.0  "
      ]
     },
     "execution_count": 103,
     "metadata": {},
     "output_type": "execute_result"
    }
   ],
   "source": [
    "res_df_100"
   ]
  },
  {
   "cell_type": "code",
   "execution_count": 104,
   "id": "21548ed7-1870-4e02-a4df-0d1f75b4c8c0",
   "metadata": {},
   "outputs": [
    {
     "name": "stdout",
     "output_type": "stream",
     "text": [
      "<bound method NDFrame.to_latex of                    $r_{2000-2019}$ vs $r_{1900-1919}$  \\\n",
      "Statistical model                                       \n",
      "Tr                                               23.0   \n",
      "TrNc                                             15.0   \n",
      "TrNcW                                             0.0   \n",
      "TrNcPd                                            5.0   \n",
      "\n",
      "                   $r_{2000-2019}$ vs $r_{1920-1939}$  \\\n",
      "Statistical model                                       \n",
      "Tr                                                5.0   \n",
      "TrNc                                              1.0   \n",
      "TrNcW                                             0.0   \n",
      "TrNcPd                                            2.0   \n",
      "\n",
      "                   $r_{2000-2019}$ vs $r_{1940-1959}$  \n",
      "Statistical model                                      \n",
      "Tr                                                6.0  \n",
      "TrNc                                              1.0  \n",
      "TrNcW                                             0.0  \n",
      "TrNcPd                                            1.0  >\n"
     ]
    }
   ],
   "source": [
    "print(res_df_100.to_latex)"
   ]
  },
  {
   "cell_type": "code",
   "execution_count": null,
   "id": "08a7a169-08ea-4a55-bc9f-029899f0a40c",
   "metadata": {},
   "outputs": [],
   "source": []
  }
 ],
 "metadata": {
  "kernelspec": {
   "display_name": "py39",
   "language": "python",
   "name": "py39"
  },
  "language_info": {
   "codemirror_mode": {
    "name": "ipython",
    "version": 3
   },
   "file_extension": ".py",
   "mimetype": "text/x-python",
   "name": "python",
   "nbconvert_exporter": "python",
   "pygments_lexer": "ipython3",
   "version": "3.9.15"
  },
  "vscode": {
   "interpreter": {
    "hash": "ad165c93584ebe83235fe5c31476d889327717b055960a8b4f6608965306597f"
   }
  }
 },
 "nbformat": 4,
 "nbformat_minor": 5
}
