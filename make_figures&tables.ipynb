{
 "cells": [
  {
   "cell_type": "markdown",
   "id": "0164d194-725a-4f6a-a480-335771038ff6",
   "metadata": {},
   "source": [
    "# Read output variables from gam_model.ipynb and make the figures and tables\n",
    "\n",
    "__Note on the environment required to run the notebook:__\n",
    "\n",
    "An installation of Python 3.9 with recent versions of the libraries (numpy, scipy, matplotlib, pandas, xarray, statsmodels) should run this Notebook wihout modification."
   ]
  },
  {
   "cell_type": "code",
   "execution_count": null,
   "id": "ffb45548-0ead-45e4-8270-584a14f0bd0a",
   "metadata": {},
   "outputs": [],
   "source": []
  }
 ],
 "metadata": {
  "kernelspec": {
   "display_name": "Python 3",
   "language": "python",
   "name": "python3"
  },
  "language_info": {
   "codemirror_mode": {
    "name": "ipython",
    "version": 3
   },
   "file_extension": ".py",
   "mimetype": "text/x-python",
   "name": "python",
   "nbconvert_exporter": "python",
   "pygments_lexer": "ipython3",
   "version": "3.9.4"
  }
 },
 "nbformat": 4,
 "nbformat_minor": 5
}
